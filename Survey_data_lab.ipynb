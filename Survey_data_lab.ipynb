{
 "cells": [
  {
   "cell_type": "code",
   "execution_count": 40,
   "id": "ee20ccaf",
   "metadata": {},
   "outputs": [],
   "source": [
    "#import dependencies\n",
    "import pandas as pd\n",
    "import matplotlib\n",
    "\n",
    "#https://raw.githubusercontent.com/fivethirtyeight/data/master/congress-generic-ballot/generic_topline_historical.csv"
   ]
  },
  {
   "cell_type": "code",
   "execution_count": 41,
   "id": "c7150b64",
   "metadata": {},
   "outputs": [
    {
     "name": "stdout",
     "output_type": "stream",
     "text": [
      "     subgroup   modeldate  dem_estimate    dem_hi    dem_lo  rep_estimate  \\\n",
      "0   All polls   11/9/1995      50.00000  56.30568  43.69432      44.00000   \n",
      "1   All polls  11/10/1995      50.00000  56.30568  43.69432      44.00000   \n",
      "2   All polls  11/11/1995      50.00000  56.30568  43.69432      44.00000   \n",
      "3   All polls  11/12/1995      50.00000  56.30568  43.69432      44.00000   \n",
      "4   All polls  11/13/1995      50.00000  56.30568  43.69432      44.00000   \n",
      "5   All polls  11/14/1995      50.00000  56.30568  43.69432      44.00000   \n",
      "6   All polls  11/15/1995      49.49995  55.37096  43.62895      44.00000   \n",
      "7   All polls  11/16/1995      49.49995  55.37122  43.62868      44.00000   \n",
      "8   All polls  11/17/1995      49.49995  55.37136  43.62854      44.00000   \n",
      "9   All polls  11/18/1995      49.49995  55.37151  43.62840      44.00000   \n",
      "10  All polls  11/19/1995      49.65863  55.36221  43.95506      42.07977   \n",
      "11  All polls  11/20/1995      47.11865  52.50246  41.73484      40.57055   \n",
      "12  All polls  11/21/1995      47.11893  52.50295  41.73491      40.57048   \n",
      "13  All polls  11/22/1995      47.11922  52.50352  41.73492      40.57030   \n",
      "14  All polls  11/23/1995      47.11948  52.50401  41.73495      40.57019   \n",
      "15  All polls  11/24/1995      47.11976  52.50449  41.73504      40.57013   \n",
      "16  All polls  11/25/1995      47.11999  52.50490  41.73508      40.56998   \n",
      "17  All polls  11/26/1995      47.12025  52.50540  41.73510      40.56986   \n",
      "18  All polls  11/27/1995      47.12055  52.50589  41.73520      40.56982   \n",
      "19  All polls  11/28/1995      47.12075  52.50631  41.73518      40.56961   \n",
      "20  All polls  11/29/1995      47.12109  52.50692  41.73527      40.56959   \n",
      "21  All polls  11/30/1995      47.12140  52.50743  41.73537      40.56953   \n",
      "22  All polls   12/1/1995      47.12161  52.50788  41.73535      40.56933   \n",
      "23  All polls   12/2/1995      47.12189  52.50840  41.73539      40.56923   \n",
      "24  All polls   12/3/1995      47.12222  52.50894  41.73550      40.56916   \n",
      "25  All polls   12/4/1995      47.12242  52.50938  41.73546      40.56893   \n",
      "26  All polls   12/5/1995      47.12272  52.50993  41.73550      40.56883   \n",
      "27  All polls   12/6/1995      47.12289  52.51021  41.73558      40.56878   \n",
      "28  All polls   12/7/1995      47.12320  52.51079  41.73562      40.56867   \n",
      "29  All polls   12/8/1995      47.12350  52.51134  41.73567      40.56857   \n",
      "30  All polls   12/9/1995      47.12381  52.51191  41.73571      40.56846   \n",
      "31  All polls  12/10/1995      47.12415  52.51253  41.73576      40.56835   \n",
      "32  All polls  12/11/1995      47.12433  52.51282  41.73584      40.56829   \n",
      "33  All polls  12/12/1995      46.86538  52.35025  41.38051      40.34724   \n",
      "34  All polls  12/13/1995      46.45296  51.62141  41.28451      38.88784   \n",
      "35  All polls  12/14/1995      46.45182  51.62150  41.28215      38.88674   \n",
      "36  All polls  12/15/1995      46.45098  51.62232  41.27964      38.88591   \n",
      "37  All polls  12/16/1995      46.44978  51.62282  41.27673      38.88458   \n",
      "38  All polls  12/17/1995      46.44850  51.62257  41.27443      38.88328   \n",
      "39  All polls  12/18/1995      46.44771  51.62315  41.27228      38.88227   \n",
      "40  All polls  12/19/1995      46.83190  51.96053  41.70327      39.51714   \n",
      "41  All polls  12/20/1995      46.83237  51.96213  41.70262      39.51804   \n",
      "42  All polls  12/21/1995      46.83295  51.96394  41.70196      39.51908   \n",
      "43  All polls  12/22/1995      46.83299  51.96511  41.70088      39.51947   \n",
      "44  All polls  12/23/1995      46.83400  51.96748  41.70051      39.52090   \n",
      "45  All polls  12/24/1995      46.83422  51.96862  41.69981      39.52148   \n",
      "46  All polls  12/25/1995      46.83465  51.97060  41.69870      39.52238   \n",
      "47  All polls  12/26/1995      46.83577  51.97317  41.69837      39.52396   \n",
      "48  All polls  12/27/1995      46.83591  51.97433  41.69749      39.52450   \n",
      "49  All polls  12/28/1995      46.83658  51.97650  41.69666      39.52569   \n",
      "\n",
      "      rep_hi    rep_lo             timestamp  \n",
      "0   50.30568  37.69432  11:37:15  3 Sep 2020  \n",
      "1   50.30568  37.69432  11:37:14  3 Sep 2020  \n",
      "2   50.30568  37.69432  11:37:14  3 Sep 2020  \n",
      "3   50.30568  37.69432  11:37:14  3 Sep 2020  \n",
      "4   50.30568  37.69432  11:37:14  3 Sep 2020  \n",
      "5   50.30568  37.69432  11:37:14  3 Sep 2020  \n",
      "6   49.87100  38.12900  11:37:14  3 Sep 2020  \n",
      "7   49.87127  38.12873  11:37:14  3 Sep 2020  \n",
      "8   49.87141  38.12859  11:37:14  3 Sep 2020  \n",
      "9   49.87155  38.12845  11:37:14  3 Sep 2020  \n",
      "10  47.78334  36.37619  11:37:14  3 Sep 2020  \n",
      "11  45.95436  35.18674  11:37:14  3 Sep 2020  \n",
      "12  45.95450  35.18646  11:37:13  3 Sep 2020  \n",
      "13  45.95460  35.18600  11:37:13  3 Sep 2020  \n",
      "14  45.95472  35.18566  11:37:13  3 Sep 2020  \n",
      "15  45.95486  35.18541  11:37:13  3 Sep 2020  \n",
      "16  45.95490  35.18507  11:37:13  3 Sep 2020  \n",
      "17  45.95501  35.18471  11:37:12  3 Sep 2020  \n",
      "18  45.95516  35.18447  11:37:12  3 Sep 2020  \n",
      "19  45.95518  35.18405  11:37:12  3 Sep 2020  \n",
      "20  45.95541  35.18377  11:37:12  3 Sep 2020  \n",
      "21  45.95557  35.18350  11:37:12  3 Sep 2020  \n",
      "22  45.95560  35.18307  11:37:12  3 Sep 2020  \n",
      "23  45.95573  35.18272  11:37:11  3 Sep 2020  \n",
      "24  45.95589  35.18244  11:37:11  3 Sep 2020  \n",
      "25  45.95589  35.18197  11:37:11  3 Sep 2020  \n",
      "26  45.95605  35.18162  11:37:11  3 Sep 2020  \n",
      "27  45.95609  35.18146  11:37:11  3 Sep 2020  \n",
      "28  45.95626  35.18109  11:37:10  3 Sep 2020  \n",
      "29  45.95641  35.18073  11:37:10  3 Sep 2020  \n",
      "30  45.95656  35.18036  11:37:10  3 Sep 2020  \n",
      "31  45.95673  35.17997  11:37:10  3 Sep 2020  \n",
      "32  45.95679  35.17980  11:37:10  3 Sep 2020  \n",
      "33  45.83211  34.86238  11:37:09  3 Sep 2020  \n",
      "34  44.05629  33.71939  11:37:09  3 Sep 2020  \n",
      "35  44.05641  33.71706  11:37:09  3 Sep 2020  \n",
      "36  44.05725  33.71457  11:37:09  3 Sep 2020  \n",
      "37  44.05762  33.71154  11:37:09  3 Sep 2020  \n",
      "38  44.05735  33.70921  11:37:09  3 Sep 2020  \n",
      "39  44.05771  33.70684  11:37:08  3 Sep 2020  \n",
      "40  44.64577  34.38850  11:37:08  3 Sep 2020  \n",
      "41  44.64780  34.38829  11:37:08  3 Sep 2020  \n",
      "42  44.65007  34.38808  11:37:08  3 Sep 2020  \n",
      "43  44.65158  34.38736  11:37:08  3 Sep 2020  \n",
      "44  44.65440  34.38741  11:37:07  3 Sep 2020  \n",
      "45  44.65588  34.38708  11:37:07  3 Sep 2020  \n",
      "46  44.65834  34.38643  11:37:07  3 Sep 2020  \n",
      "47  44.66136  34.38656  11:37:07  3 Sep 2020  \n",
      "48  44.66292  34.38607  11:37:07  3 Sep 2020  \n",
      "49  44.66561  34.38577  11:37:06  3 Sep 2020  \n"
     ]
    }
   ],
   "source": [
    "#read in dataset\n",
    "file = '../generic_topline_historical.csv'\n",
    "df = pd.read_csv(file)\n",
    "print(df.head(50))"
   ]
  },
  {
   "cell_type": "code",
   "execution_count": 42,
   "id": "5e3c75b6",
   "metadata": {},
   "outputs": [
    {
     "name": "stdout",
     "output_type": "stream",
     "text": [
      "     subgroup   modeldate  dem_estimate    dem_hi    dem_lo  rep_estimate  \\\n",
      "1   All polls  11/10/1995      50.00000  56.30568  43.69432      44.00000   \n",
      "2   All polls  11/11/1995      50.00000  56.30568  43.69432      44.00000   \n",
      "3   All polls  11/12/1995      50.00000  56.30568  43.69432      44.00000   \n",
      "4   All polls  11/13/1995      50.00000  56.30568  43.69432      44.00000   \n",
      "5   All polls  11/14/1995      50.00000  56.30568  43.69432      44.00000   \n",
      "6   All polls  11/15/1995      49.49995  55.37096  43.62895      44.00000   \n",
      "7   All polls  11/16/1995      49.49995  55.37122  43.62868      44.00000   \n",
      "8   All polls  11/17/1995      49.49995  55.37136  43.62854      44.00000   \n",
      "9   All polls  11/18/1995      49.49995  55.37151  43.62840      44.00000   \n",
      "10  All polls  11/19/1995      49.65863  55.36221  43.95506      42.07977   \n",
      "11  All polls  11/20/1995      47.11865  52.50246  41.73484      40.57055   \n",
      "\n",
      "      rep_hi    rep_lo             timestamp  \n",
      "1   50.30568  37.69432  11:37:14  3 Sep 2020  \n",
      "2   50.30568  37.69432  11:37:14  3 Sep 2020  \n",
      "3   50.30568  37.69432  11:37:14  3 Sep 2020  \n",
      "4   50.30568  37.69432  11:37:14  3 Sep 2020  \n",
      "5   50.30568  37.69432  11:37:14  3 Sep 2020  \n",
      "6   49.87100  38.12900  11:37:14  3 Sep 2020  \n",
      "7   49.87127  38.12873  11:37:14  3 Sep 2020  \n",
      "8   49.87141  38.12859  11:37:14  3 Sep 2020  \n",
      "9   49.87155  38.12845  11:37:14  3 Sep 2020  \n",
      "10  47.78334  36.37619  11:37:14  3 Sep 2020  \n",
      "11  45.95436  35.18674  11:37:14  3 Sep 2020  \n"
     ]
    }
   ],
   "source": [
    "#limit dataset to a certain timestamp\n",
    "df = df[df['timestamp'] == '11:37:14  3 Sep 2020']\n",
    "print(df.head(11))"
   ]
  },
  {
   "cell_type": "code",
   "execution_count": 43,
   "id": "28c86db6",
   "metadata": {},
   "outputs": [
    {
     "name": "stdout",
     "output_type": "stream",
     "text": [
      "           dem_estimate\n",
      "subgroup               \n",
      "All polls     49.525189\n"
     ]
    }
   ],
   "source": [
    "dem_estimate_mean = df.groupby('subgroup')[['dem_estimate']].mean()\n",
    "print(dem_estimate_mean)"
   ]
  },
  {
   "cell_type": "code",
   "execution_count": 44,
   "id": "713d5e4a",
   "metadata": {},
   "outputs": [
    {
     "name": "stdout",
     "output_type": "stream",
     "text": [
      "           rep_estimate\n",
      "subgroup               \n",
      "All polls     43.513665\n"
     ]
    }
   ],
   "source": [
    "rep_estimate_mean = df.groupby('subgroup')[['rep_estimate']].mean()\n",
    "print(rep_estimate_mean)"
   ]
  },
  {
   "cell_type": "code",
   "execution_count": 45,
   "id": "e9503646",
   "metadata": {},
   "outputs": [
    {
     "name": "stdout",
     "output_type": "stream",
     "text": [
      "              dem_hi\n",
      "subgroup            \n",
      "All polls  55.534375\n"
     ]
    }
   ],
   "source": [
    "dem_hi_mean = df.groupby('subgroup')[['dem_hi']].mean()\n",
    "print(dem_hi_mean)"
   ]
  },
  {
   "cell_type": "code",
   "execution_count": 46,
   "id": "e81a9384",
   "metadata": {},
   "outputs": [
    {
     "data": {
      "text/plain": [
       "44.00000    0.818182\n",
       "42.07977    0.090909\n",
       "40.57055    0.090909\n",
       "Name: rep_estimate, dtype: float64"
      ]
     },
     "execution_count": 46,
     "metadata": {},
     "output_type": "execute_result"
    }
   ],
   "source": [
    "#This function value_counts was something I learned by independent study. This function finds the frequencies of\n",
    "#different values in the rep_estimate column in the timestamp the data is limited to \n",
    "df['rep_estimate'].value_counts(file)"
   ]
  },
  {
   "cell_type": "code",
   "execution_count": 47,
   "id": "cb46f04a",
   "metadata": {},
   "outputs": [
    {
     "data": {
      "text/plain": [
       "Index            88\n",
       "subgroup        726\n",
       "modeldate       737\n",
       "dem_estimate     88\n",
       "dem_hi           88\n",
       "dem_lo           88\n",
       "rep_estimate     88\n",
       "rep_hi           88\n",
       "rep_lo           88\n",
       "timestamp       847\n",
       "dtype: int64"
      ]
     },
     "execution_count": 47,
     "metadata": {},
     "output_type": "execute_result"
    }
   ],
   "source": [
    "#This function memory_usage was something I learned by independent study. This function gives the memory usage of \n",
    "#each column in the dataset\n",
    "df.memory_usage(deep=True)"
   ]
  },
  {
   "cell_type": "code",
   "execution_count": 48,
   "id": "d1972e80",
   "metadata": {},
   "outputs": [
    {
     "data": {
      "text/html": [
       "<div>\n",
       "<style scoped>\n",
       "    .dataframe tbody tr th:only-of-type {\n",
       "        vertical-align: middle;\n",
       "    }\n",
       "\n",
       "    .dataframe tbody tr th {\n",
       "        vertical-align: top;\n",
       "    }\n",
       "\n",
       "    .dataframe thead th {\n",
       "        text-align: right;\n",
       "    }\n",
       "</style>\n",
       "<table border=\"1\" class=\"dataframe\">\n",
       "  <thead>\n",
       "    <tr style=\"text-align: right;\">\n",
       "      <th></th>\n",
       "      <th>modeldate</th>\n",
       "      <th>dem_estimate</th>\n",
       "      <th>rep_estimate</th>\n",
       "    </tr>\n",
       "  </thead>\n",
       "  <tbody>\n",
       "    <tr>\n",
       "      <th>1</th>\n",
       "      <td>11/10/1995</td>\n",
       "      <td>50.00000</td>\n",
       "      <td>44.00000</td>\n",
       "    </tr>\n",
       "    <tr>\n",
       "      <th>2</th>\n",
       "      <td>11/11/1995</td>\n",
       "      <td>50.00000</td>\n",
       "      <td>44.00000</td>\n",
       "    </tr>\n",
       "    <tr>\n",
       "      <th>3</th>\n",
       "      <td>11/12/1995</td>\n",
       "      <td>50.00000</td>\n",
       "      <td>44.00000</td>\n",
       "    </tr>\n",
       "    <tr>\n",
       "      <th>4</th>\n",
       "      <td>11/13/1995</td>\n",
       "      <td>50.00000</td>\n",
       "      <td>44.00000</td>\n",
       "    </tr>\n",
       "    <tr>\n",
       "      <th>5</th>\n",
       "      <td>11/14/1995</td>\n",
       "      <td>50.00000</td>\n",
       "      <td>44.00000</td>\n",
       "    </tr>\n",
       "    <tr>\n",
       "      <th>6</th>\n",
       "      <td>11/15/1995</td>\n",
       "      <td>49.49995</td>\n",
       "      <td>44.00000</td>\n",
       "    </tr>\n",
       "    <tr>\n",
       "      <th>7</th>\n",
       "      <td>11/16/1995</td>\n",
       "      <td>49.49995</td>\n",
       "      <td>44.00000</td>\n",
       "    </tr>\n",
       "    <tr>\n",
       "      <th>8</th>\n",
       "      <td>11/17/1995</td>\n",
       "      <td>49.49995</td>\n",
       "      <td>44.00000</td>\n",
       "    </tr>\n",
       "    <tr>\n",
       "      <th>9</th>\n",
       "      <td>11/18/1995</td>\n",
       "      <td>49.49995</td>\n",
       "      <td>44.00000</td>\n",
       "    </tr>\n",
       "    <tr>\n",
       "      <th>10</th>\n",
       "      <td>11/19/1995</td>\n",
       "      <td>49.65863</td>\n",
       "      <td>42.07977</td>\n",
       "    </tr>\n",
       "    <tr>\n",
       "      <th>11</th>\n",
       "      <td>11/20/1995</td>\n",
       "      <td>47.11865</td>\n",
       "      <td>40.57055</td>\n",
       "    </tr>\n",
       "  </tbody>\n",
       "</table>\n",
       "</div>"
      ],
      "text/plain": [
       "     modeldate  dem_estimate  rep_estimate\n",
       "1   11/10/1995      50.00000      44.00000\n",
       "2   11/11/1995      50.00000      44.00000\n",
       "3   11/12/1995      50.00000      44.00000\n",
       "4   11/13/1995      50.00000      44.00000\n",
       "5   11/14/1995      50.00000      44.00000\n",
       "6   11/15/1995      49.49995      44.00000\n",
       "7   11/16/1995      49.49995      44.00000\n",
       "8   11/17/1995      49.49995      44.00000\n",
       "9   11/18/1995      49.49995      44.00000\n",
       "10  11/19/1995      49.65863      42.07977\n",
       "11  11/20/1995      47.11865      40.57055"
      ]
     },
     "execution_count": 48,
     "metadata": {},
     "output_type": "execute_result"
    }
   ],
   "source": [
    "#This function loc[:] was something I learned by independent study. This function allows you to group specific\n",
    "#rows an columns in a dataset. I used this function to group the columns modeldate, dem_estimate, and rep_estimate\n",
    "#in the timestamp the data is limited to. \n",
    "\n",
    "df.loc[0:11, ['modeldate', 'dem_estimate', 'rep_estimate']]"
   ]
  },
  {
   "cell_type": "code",
   "execution_count": 49,
   "id": "9802adf0",
   "metadata": {},
   "outputs": [
    {
     "data": {
      "text/html": [
       "<div>\n",
       "<style scoped>\n",
       "    .dataframe tbody tr th:only-of-type {\n",
       "        vertical-align: middle;\n",
       "    }\n",
       "\n",
       "    .dataframe tbody tr th {\n",
       "        vertical-align: top;\n",
       "    }\n",
       "\n",
       "    .dataframe thead th {\n",
       "        text-align: right;\n",
       "    }\n",
       "</style>\n",
       "<table border=\"1\" class=\"dataframe\">\n",
       "  <thead>\n",
       "    <tr style=\"text-align: right;\">\n",
       "      <th></th>\n",
       "      <th>subgroup</th>\n",
       "      <th>modeldate</th>\n",
       "      <th>dem_estimate</th>\n",
       "      <th>dem_hi</th>\n",
       "      <th>dem_lo</th>\n",
       "      <th>rep_estimate</th>\n",
       "      <th>rep_hi</th>\n",
       "      <th>rep_lo</th>\n",
       "      <th>timestamp</th>\n",
       "    </tr>\n",
       "  </thead>\n",
       "  <tbody>\n",
       "    <tr>\n",
       "      <th>10</th>\n",
       "      <td>All polls</td>\n",
       "      <td>11/19/1995</td>\n",
       "      <td>49.65863</td>\n",
       "      <td>55.36221</td>\n",
       "      <td>43.95506</td>\n",
       "      <td>42.07977</td>\n",
       "      <td>47.78334</td>\n",
       "      <td>36.37619</td>\n",
       "      <td>11:37:14  3 Sep 2020</td>\n",
       "    </tr>\n",
       "    <tr>\n",
       "      <th>11</th>\n",
       "      <td>All polls</td>\n",
       "      <td>11/20/1995</td>\n",
       "      <td>47.11865</td>\n",
       "      <td>52.50246</td>\n",
       "      <td>41.73484</td>\n",
       "      <td>40.57055</td>\n",
       "      <td>45.95436</td>\n",
       "      <td>35.18674</td>\n",
       "      <td>11:37:14  3 Sep 2020</td>\n",
       "    </tr>\n",
       "  </tbody>\n",
       "</table>\n",
       "</div>"
      ],
      "text/plain": [
       "     subgroup   modeldate  dem_estimate    dem_hi    dem_lo  rep_estimate  \\\n",
       "10  All polls  11/19/1995      49.65863  55.36221  43.95506      42.07977   \n",
       "11  All polls  11/20/1995      47.11865  52.50246  41.73484      40.57055   \n",
       "\n",
       "      rep_hi    rep_lo             timestamp  \n",
       "10  47.78334  36.37619  11:37:14  3 Sep 2020  \n",
       "11  45.95436  35.18674  11:37:14  3 Sep 2020  "
      ]
     },
     "execution_count": 49,
     "metadata": {},
     "output_type": "execute_result"
    }
   ],
   "source": [
    "#This function df.query was something I learned by independent study. This function allows you to ask the program\n",
    "#to sort the dataset based on certain logical questions. In this example I asked fot the rows in the dataset to be\n",
    "#sorted by when the dem_estimate value was larger than the rep_hi value in the timestamp\n",
    "\n",
    "df.query(\"dem_estimate > rep_hi\")"
   ]
  },
  {
   "cell_type": "code",
   "execution_count": 50,
   "id": "f08d4dff",
   "metadata": {
    "scrolled": true
   },
   "outputs": [
    {
     "data": {
      "text/plain": [
       "subgroup         object\n",
       "modeldate        object\n",
       "dem_estimate    float64\n",
       "dem_hi          float64\n",
       "dem_lo          float64\n",
       "rep_estimate    float64\n",
       "rep_hi          float64\n",
       "rep_lo          float64\n",
       "timestamp        object\n",
       "dtype: object"
      ]
     },
     "execution_count": 50,
     "metadata": {},
     "output_type": "execute_result"
    }
   ],
   "source": [
    "#This function df.dtypes was something I learned by independent study. This function gives the data types of every\n",
    "#column in the dataset\n",
    "\n",
    "df.dtypes"
   ]
  },
  {
   "cell_type": "code",
   "execution_count": 51,
   "id": "2d586b1c",
   "metadata": {},
   "outputs": [
    {
     "data": {
      "text/html": [
       "<div>\n",
       "<style scoped>\n",
       "    .dataframe tbody tr th:only-of-type {\n",
       "        vertical-align: middle;\n",
       "    }\n",
       "\n",
       "    .dataframe tbody tr th {\n",
       "        vertical-align: top;\n",
       "    }\n",
       "\n",
       "    .dataframe thead th {\n",
       "        text-align: right;\n",
       "    }\n",
       "</style>\n",
       "<table border=\"1\" class=\"dataframe\">\n",
       "  <thead>\n",
       "    <tr style=\"text-align: right;\">\n",
       "      <th></th>\n",
       "      <th>dem_estimate</th>\n",
       "      <th>rep_estimate</th>\n",
       "    </tr>\n",
       "  </thead>\n",
       "  <tbody>\n",
       "    <tr>\n",
       "      <th>1</th>\n",
       "      <td>50.00000</td>\n",
       "      <td>44.00000</td>\n",
       "    </tr>\n",
       "    <tr>\n",
       "      <th>2</th>\n",
       "      <td>100.00000</td>\n",
       "      <td>88.00000</td>\n",
       "    </tr>\n",
       "    <tr>\n",
       "      <th>3</th>\n",
       "      <td>150.00000</td>\n",
       "      <td>132.00000</td>\n",
       "    </tr>\n",
       "    <tr>\n",
       "      <th>4</th>\n",
       "      <td>200.00000</td>\n",
       "      <td>176.00000</td>\n",
       "    </tr>\n",
       "    <tr>\n",
       "      <th>5</th>\n",
       "      <td>250.00000</td>\n",
       "      <td>220.00000</td>\n",
       "    </tr>\n",
       "    <tr>\n",
       "      <th>6</th>\n",
       "      <td>299.49995</td>\n",
       "      <td>264.00000</td>\n",
       "    </tr>\n",
       "    <tr>\n",
       "      <th>7</th>\n",
       "      <td>348.99990</td>\n",
       "      <td>308.00000</td>\n",
       "    </tr>\n",
       "    <tr>\n",
       "      <th>8</th>\n",
       "      <td>398.49985</td>\n",
       "      <td>352.00000</td>\n",
       "    </tr>\n",
       "    <tr>\n",
       "      <th>9</th>\n",
       "      <td>447.99980</td>\n",
       "      <td>396.00000</td>\n",
       "    </tr>\n",
       "    <tr>\n",
       "      <th>10</th>\n",
       "      <td>497.65843</td>\n",
       "      <td>438.07977</td>\n",
       "    </tr>\n",
       "    <tr>\n",
       "      <th>11</th>\n",
       "      <td>544.77708</td>\n",
       "      <td>478.65032</td>\n",
       "    </tr>\n",
       "  </tbody>\n",
       "</table>\n",
       "</div>"
      ],
      "text/plain": [
       "    dem_estimate  rep_estimate\n",
       "1       50.00000      44.00000\n",
       "2      100.00000      88.00000\n",
       "3      150.00000     132.00000\n",
       "4      200.00000     176.00000\n",
       "5      250.00000     220.00000\n",
       "6      299.49995     264.00000\n",
       "7      348.99990     308.00000\n",
       "8      398.49985     352.00000\n",
       "9      447.99980     396.00000\n",
       "10     497.65843     438.07977\n",
       "11     544.77708     478.65032"
      ]
     },
     "execution_count": 51,
     "metadata": {},
     "output_type": "execute_result"
    }
   ],
   "source": [
    "#I learned the function df[''].cumsum() independently. This function provided me with the cumulative sum of all \n",
    "#the values of the previous rows. Using this function I could see the total amount of points the rep_estimate and \n",
    "#dem_estimate columns differed over time\n",
    "\n",
    "df[['dem_estimate', 'rep_estimate']].cumsum()"
   ]
  }
 ],
 "metadata": {
  "kernelspec": {
   "display_name": "Python 3 (ipykernel)",
   "language": "python",
   "name": "python3"
  },
  "language_info": {
   "codemirror_mode": {
    "name": "ipython",
    "version": 3
   },
   "file_extension": ".py",
   "mimetype": "text/x-python",
   "name": "python",
   "nbconvert_exporter": "python",
   "pygments_lexer": "ipython3",
   "version": "3.9.12"
  }
 },
 "nbformat": 4,
 "nbformat_minor": 5
}
